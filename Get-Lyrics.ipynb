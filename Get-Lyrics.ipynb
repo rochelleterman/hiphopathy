{
 "cells": [
  {
   "cell_type": "markdown",
   "metadata": {},
   "source": [
    "#     Getting Data through an API call"
   ]
  },
  {
   "cell_type": "code",
   "execution_count": 74,
   "metadata": {
    "collapsed": false
   },
   "outputs": [],
   "source": [
    "import urllib\n",
    "import urllib2\n",
    "import json\n",
    "import pprint #for pretty print of json files\n",
    "url = 'http://genius-api.com/api/artistInfo'\n",
    "values = {'name' : 'Eminem',\n",
    "          'genre' : 'rap'}\n",
    "data = urllib.urlencode(values)\n",
    "req = urllib2.Request(url, data)\n"
   ]
  },
  {
   "cell_type": "code",
   "execution_count": 75,
   "metadata": {
    "collapsed": true
   },
   "outputs": [],
   "source": [
    "response = urllib2.urlopen(req)"
   ]
  },
  {
   "cell_type": "code",
   "execution_count": 76,
   "metadata": {
    "collapsed": true
   },
   "outputs": [],
   "source": [
    "the_page = response.read()"
   ]
  },
  {
   "cell_type": "code",
   "execution_count": 77,
   "metadata": {
    "collapsed": true
   },
   "outputs": [],
   "source": [
    "decoded_data = json.loads(the_page)"
   ]
  },
  {
   "cell_type": "code",
   "execution_count": 78,
   "metadata": {
    "collapsed": false
   },
   "outputs": [
    {
     "data": {
      "text/plain": [
       "dict_keys([u'popularSongs', u'link', u'name', u'songs'])"
      ]
     },
     "execution_count": 78,
     "metadata": {},
     "output_type": "execute_result"
    }
   ],
   "source": [
    "# look at keys\n",
    "decoded_data.viewkeys()"
   ]
  },
  {
   "cell_type": "code",
   "execution_count": 79,
   "metadata": {
    "collapsed": false
   },
   "outputs": [
    {
     "data": {
      "text/plain": [
       "u'http://genius.com/Eminem-phenomenal-lyrics'"
      ]
     },
     "execution_count": 79,
     "metadata": {},
     "output_type": "execute_result"
    }
   ],
   "source": [
    "# get one song\n",
    "link = decoded_data.get('songs')[1]['link'].replace(\"http://rapgenius.com\",\"\")\n",
    "link"
   ]
  },
  {
   "cell_type": "code",
   "execution_count": 80,
   "metadata": {
    "collapsed": false
   },
   "outputs": [
    {
     "data": {
      "text/plain": [
       "u'http://genius.com/Eminem-phenomenal-lyrics'"
      ]
     },
     "execution_count": 80,
     "metadata": {},
     "output_type": "execute_result"
    }
   ],
   "source": [
    "lyric_url = 'http://genius-api.com/api/lyricsInfo'\n",
    "parameters = {'link':link,\n",
    "          'genre' : 'rap'}\n",
    "data = urllib.urlencode(parameters)\n",
    "parameters['link']"
   ]
  },
  {
   "cell_type": "code",
   "execution_count": 81,
   "metadata": {
    "collapsed": true
   },
   "outputs": [],
   "source": [
    "req = urllib2.Request(lyric_url, data)\n",
    "response = urllib2.urlopen(req)\n",
    "lyric_info = response.read()\n",
    "decoded_data = json.loads(lyric_info)"
   ]
  },
  {
   "cell_type": "code",
   "execution_count": 82,
   "metadata": {
    "collapsed": false
   },
   "outputs": [
    {
     "data": {
      "text/plain": [
       "dict_keys([u'explanations', u'lyrics'])"
      ]
     },
     "execution_count": 82,
     "metadata": {},
     "output_type": "execute_result"
    }
   ],
   "source": [
    "decoded_data.viewkeys()"
   ]
  },
  {
   "cell_type": "code",
   "execution_count": 83,
   "metadata": {
    "collapsed": true
   },
   "outputs": [],
   "source": [
    "Data_under_investigation = decoded_data.get('lyrics')"
   ]
  },
  {
   "cell_type": "code",
   "execution_count": 84,
   "metadata": {
    "collapsed": false
   },
   "outputs": [
    {
     "data": {
      "text/plain": [
       "dict_keys([u'songId', u'featuringArtists', u'mainArtist', u'producingArtists', u'sections', u'songTitle'])"
      ]
     },
     "execution_count": 84,
     "metadata": {},
     "output_type": "execute_result"
    }
   ],
   "source": [
    "Data_under_investigation.viewkeys()"
   ]
  },
  {
   "cell_type": "code",
   "execution_count": 85,
   "metadata": {
    "collapsed": false
   },
   "outputs": [
    {
     "data": {
      "text/plain": [
       "[{u'content': u\"I am phenomenal\\nWith every ounce of my blood\\nWith every breath in my lungs\\nWon't stop until I'm phe-no-menal\\nI am phenomenal\\nHowever long that it takes\\nI'll go to whatever lengths\\nIt's gonna make me a monster though\\nI am phenomenal\\nBut I'll never say, \\u2018Oh, it\\u2019s impossible\\u2019\\nCause I'm born to be phenomenal\\n\\n\\n\",\n",
       "  u'id': 6716791}]"
      ]
     },
     "execution_count": 85,
     "metadata": {},
     "output_type": "execute_result"
    }
   ],
   "source": [
    "Data_under_investigation = decoded_data.get('lyrics').get('sections')\n",
    "Data_under_investigation[0].get('verses')"
   ]
  },
  {
   "cell_type": "code",
   "execution_count": 86,
   "metadata": {
    "collapsed": false
   },
   "outputs": [
    {
     "name": "stdout",
     "output_type": "stream",
     "text": [
      "[Hook]\n",
      "I am phenomenal\n",
      "With every ounce of my blood\n",
      "With every breath in my lungs\n",
      "Won't stop until I'm phe-no-menal\n",
      "I am phenomenal\n",
      "However long that it takes\n",
      "I'll go to whatever lengths\n",
      "It's gonna make me a monster though\n",
      "I am phenomenal\n",
      "But I'll never say, ‘Oh, it’s impossible’\n",
      "Cause I'm born to be phenomenal\n",
      "\n",
      "\n",
      "\n",
      "[Verse 1]\n",
      "Unstoppable, unpoppable thought bubbles\n",
      "Untoppable thoughts, fuckin' juggernaut that'll\n",
      "\n",
      "Stomp you in a verse, obstacles I'm drawn to 'em\n",
      "When the going got rough\n",
      "Some of what I done fought through was the worst, little sissy\n",
      "\n",
      "Who the fuck taught you how to persevere?\n",
      "There ain't no situation that you ever had to respond to that's adverse\n",
      "The messiest thing you've ever gone through was your purse\n",
      "\n",
      "Yeah, I don't try like hell, then I might as well\n",
      "Hang it up like a shelf,\n",
      "gotta keep growin' with it, evolve\n",
      "Cause you can keep throwin' shit at the wall\n",
      "But you're gonna find that nothing's gonna stick until you apply yourself\n",
      "\n",
      "Time to slip in that zone 'til I find myself\n",
      "Inside the realm of the unknown and boldly go\n",
      "Into waters where nobody else has gone before\n",
      "Or willing to go, uncharted, feeling is so\n",
      "Bomb,\n",
      "I'm feelin' myself, I'm a giant\n",
      "Sometimes I gotta remind myself that I am...\n",
      "\n",
      "\n",
      "\n",
      "[Hook]\n",
      "I am phenomenal\n",
      "With every ounce of my blood\n",
      "With every breath in my lungs\n",
      "Won't stop until I'm phe-no-menal\n",
      "I am phenomenal\n",
      "However long that it takes\n",
      "I'll go to whatever lengths\n",
      "It's gonna make me a monster though\n",
      "I am phenomenal\n",
      "But I'll never say, ‘Oh, it’s impossible’\n",
      "Cause I'm born to be phenomenal\n",
      "\n",
      "\n",
      "\n",
      "[Verse 2]\n",
      "Let me self-empower you\n",
      "When you're down and they're tryin' to clown the fuck out of you\n",
      "And you feel like you're runnin' out of fuel\n",
      "I'll show you how to use doubt as fuel\n",
      "Convert it to gunpowder too\n",
      "\n",
      "Now what you do is put the match to the charcoal fluid\n",
      "Put the spark to it like Martha Stewart barbecuing\n",
      "\n",
      "Ah screw it, feel like you want to hit that wall then do it\n",
      "Punch through it, just cock back, put your all into it\n",
      "\n",
      "Now you gon' take that rage and make that what you wage\n",
      "Never take back what you say\n",
      "\n",
      "If you stay strapped in your brain, engaged in a steel cage match\n",
      "Ready to scrap asap\n",
      "Take your fists and just ball it\n",
      "\n",
      "Show who's big and who's smallest you're Christopher Wallace\n",
      "\n",
      "Now picture 'em all as plastic and foam\n",
      "Lays flat, where you put your dinner plates at\n",
      "And set it on 'em like a placemat\n",
      "\n",
      "(I am phenomenal)\n",
      "And I want you to say that\n",
      "\n",
      "\n",
      "\n",
      "[Hook]\n",
      "I am phenomenal\n",
      "With every ounce of my blood\n",
      "With every breath in my lungs\n",
      "Won't stop until I'm phe-no-menal\n",
      "I am phenomenal\n",
      "However long that it takes\n",
      "I'll go to whatever lengths\n",
      "It's gonna make me a monster though\n",
      "I am phenomenal\n",
      "But I'll never say, ‘Oh, it’s impossible’\n",
      "Cause I'm born to be phenomenal\n",
      "\n",
      "\n",
      "\n",
      "\n",
      "[Bridge]\n",
      "Oh, step into the unknown and find yourself\n",
      "You’re floating freely, no emotion\n",
      "\n",
      "\n",
      "\n",
      "[Verse 3]\n",
      "Got a fuckin’ mouth with no shut-off valve\n",
      "Can't even cut off power to it, but it's what allowed\n",
      "Me to come up out from under the fuckin' ground\n",
      "\n",
      "Cause I worked my butt off now\n",
      "It's a subject that I don't know how to shut up about\n",
      "\n",
      "Cause I stuck it out\n",
      "Like a motherfuckin' tongue thats how\n",
      "I responded when I got shoved around\n",
      "\n",
      "You're gonna have non-believers\n",
      "But when you're beyond belief, you probably shouldn't wonder how\n",
      "\n",
      "Get it how you live\n",
      "\n",
      "But are you prepared to give more than you get?\n",
      "And put in twice what you get back from this shit\n",
      "Though what you sacrifice barely is half, never give\n",
      "\n",
      "Rap is my shiv\n",
      "But it's like my shield at the same time I wield and my knife is will\n",
      "\n",
      "Sometimes I feel just like B. Real from Cypress Hill\n",
      "How I can just kill a cypher, survivor's guilt\n",
      "\n",
      "I rhyme like life is still an uphill climb\n",
      "Ready to face any challenge, waitin'\n",
      "Can taste it, it's salivation, I'm wagin' retaliation\n",
      "\n",
      "Look what I have built, reputation is validation\n",
      "The only thing I'm capable of makin' is amazing\n",
      "Only thing you're capable of makin' is a false statement\n",
      "Or accusation... I am legendary status, in fact\n",
      "That is the only way you'll ever be able to say\n",
      "You're a legend is makin' an allegation\n",
      "\n",
      "I write with the left, same hand I hold the mic with\n",
      "\n",
      "As I fight to the death, 'til my last breath\n",
      "Manage to prove who the best man is\n",
      "\n",
      "Prevail at all costs, be the only ones left standin'\n",
      "\n",
      "In the end, but I ain't gonna be the only one with the advantage\n",
      "Of knowin' what it's like to be southpaw\n",
      "Cause you can bet your ass you'll be left handed\n",
      "\n",
      "Cause I am\n",
      "\n",
      "\n",
      "\n",
      "[Hook]\n",
      "I am phenomenal\n",
      "With every ounce of my blood\n",
      "With every breath in my lungs\n",
      "Won't stop until I'm phe-no-menal\n",
      "I am phenomenal\n",
      "However long that it takes\n",
      "I'll go to whatever lengths\n",
      "It's gonna make me a monster though\n",
      "I am phenomenal\n",
      "But I'll never say, ‘Oh, it’s impossible’\n",
      "Cause I'm born to be phenomenal\n"
     ]
    }
   ],
   "source": [
    "for section in Data_under_investigation:\n",
    "    print section['name']\n",
    "    for verse in section['verses']:\n",
    "        #print verse\n",
    "        print verse['content']\n",
    "    \n",
    "\n",
    "#Data_under_investigation[1]['verses'][0]['content']"
   ]
  },
  {
   "cell_type": "code",
   "execution_count": null,
   "metadata": {
    "collapsed": true
   },
   "outputs": [],
   "source": []
  }
 ],
 "metadata": {
  "kernelspec": {
   "display_name": "Python 2",
   "language": "python",
   "name": "python2"
  },
  "language_info": {
   "codemirror_mode": {
    "name": "ipython",
    "version": 2
   },
   "file_extension": ".py",
   "mimetype": "text/x-python",
   "name": "python",
   "nbconvert_exporter": "python",
   "pygments_lexer": "ipython2",
   "version": "2.7.9"
  }
 },
 "nbformat": 4,
 "nbformat_minor": 0
}
